{
 "cells": [
  {
   "cell_type": "code",
   "execution_count": null,
   "id": "0",
   "metadata": {},
   "outputs": [],
   "source": [
    "from pyspark.sql import SparkSession\n",
    "from pyspark.sql.types import StringType, StructField, StructType, IntegerType, BooleanType, FloatType\n",
    "from pyspark.sql.functions import col, countDistinct, to_timestamp, year, max as spark_max, avg as spark_avg, sum as spark_sum, min as spark_min"
   ]
  },
  {
   "cell_type": "code",
   "execution_count": null,
   "id": "1",
   "metadata": {},
   "outputs": [],
   "source": [
    "spark = SparkSession.builder.appName(\"common_dataframe_operations\").getOrCreate()"
   ]
  },
  {
   "cell_type": "markdown",
   "id": "2",
   "metadata": {},
   "source": [
    "# Read DataFrame"
   ]
  },
  {
   "cell_type": "code",
   "execution_count": null,
   "id": "3",
   "metadata": {},
   "outputs": [],
   "source": [
    "schema = StructType(\n",
    "        [\n",
    "            StructField(\"CallNumber\", IntegerType(), True),\n",
    "            StructField(\"UnitID\", StringType(), True),\n",
    "            StructField(\"IncidentNumber\", IntegerType(), True),\n",
    "            StructField(\"CallType\", StringType(), True),\n",
    "            StructField(\"CallDate\", StringType(), True),\n",
    "            StructField(\"WatchDate\", StringType(), True),\n",
    "            StructField(\"CallFinalDisposition\", StringType(), True),\n",
    "            StructField(\"AvailableDtTm\", StringType(), True),\n",
    "            StructField(\"Address\", StringType(), True),\n",
    "            StructField(\"City\", StringType(), True),\n",
    "            StructField(\"Zipcode\", IntegerType(), True),\n",
    "            StructField(\"Battalion\", StringType(), True),\n",
    "            StructField(\"StationArea\", StringType(), True),\n",
    "            StructField(\"Box\", StringType(), True),\n",
    "            StructField(\"OriginalPriority\", StringType(), True),\n",
    "            StructField(\"Priority\", StringType(), True),\n",
    "            StructField(\"FinalPriority\", IntegerType(), True),\n",
    "            StructField(\"ALSUnit\", BooleanType(), True),\n",
    "            StructField(\"CallTypeGroup\", StringType(), True),\n",
    "            StructField(\"NumAlarms\", IntegerType(), True),\n",
    "            StructField(\"UnitType\", StringType(), True),\n",
    "            StructField(\"UnitSequenceInCallDispatch\", IntegerType(), True),\n",
    "            StructField(\"FirePreventionDistrict\", StringType(), True),\n",
    "            StructField(\"SupervisorDistrict\", StringType(), True),\n",
    "            StructField(\"Neighborhood\", StringType(), True),\n",
    "            StructField(\"Location\", StringType(), True),\n",
    "            StructField(\"RowID\", StringType(), True),\n",
    "            StructField(\"Delay\", FloatType(), True),\n",
    "        ]\n",
    "    )\n",
    "\n",
    "fire_df = spark.read.format(\"csv\").schema(schema).option(\"header\", \"true\").load(\"/opt/bitnami/spark/custom_data/chapter3/sf-fire-calls.csv\")\n",
    "fire_df.show()"
   ]
  },
  {
   "cell_type": "markdown",
   "id": "4",
   "metadata": {},
   "source": [
    "# Saving DataFrame"
   ]
  },
  {
   "cell_type": "code",
   "execution_count": null,
   "id": "5",
   "metadata": {},
   "outputs": [],
   "source": [
    "fire_df.write.format('parquet').mode(\"overwrite\").option(\"mapreduce.fileoutputcommitter.marksuccessfuljobs\", \"false\").save(\"/opt/bitnami/spark/custom_data/chapter3/output/\")"
   ]
  },
  {
   "cell_type": "markdown",
   "id": "6",
   "metadata": {},
   "source": [
    "# Saving DataFrame and create table"
   ]
  },
  {
   "cell_type": "code",
   "execution_count": null,
   "id": "7",
   "metadata": {},
   "outputs": [],
   "source": [
    "fire_df.write.format('parquet').mode('overwrite').option(\"path\", \"/opt/bitnami/spark/custom_data/chapter3/output/\").option(\"mapreduce.fileoutputcommitter.marksuccessfuljobs\", \"false\").saveAsTable(\"fire_df\")"
   ]
  },
  {
   "cell_type": "markdown",
   "id": "8",
   "metadata": {},
   "source": [
    "# Transformations and actions"
   ]
  },
  {
   "cell_type": "markdown",
   "id": "9",
   "metadata": {},
   "source": [
    "##  Projections and filters"
   ]
  },
  {
   "cell_type": "code",
   "execution_count": null,
   "id": "10",
   "metadata": {},
   "outputs": [],
   "source": [
    "few_fire_df = fire_df.select(\"IncidentNumber\", \"AvailableDtTm\", \"CallType\").where(col(\"CallType\")!=\"Medical Incident\")\n",
    "few_fire_df.show(5, truncate=False)"
   ]
  },
  {
   "cell_type": "code",
   "execution_count": null,
   "id": "11",
   "metadata": {},
   "outputs": [],
   "source": [
    "fire_df.select(\"CallType\").where(col(\"CallType\").isNotNull()).agg(countDistinct('CallType').alias(\"DistinctCallTypes\")).show()"
   ]
  },
  {
   "cell_type": "code",
   "execution_count": null,
   "id": "12",
   "metadata": {},
   "outputs": [],
   "source": [
    "fire_df.select(\"CallType\").where(col(\"CallType\").isNotNull()).distinct().alias(\"DistinctCallTypes\").show(10, truncate=False)"
   ]
  },
  {
   "cell_type": "markdown",
   "id": "13",
   "metadata": {},
   "source": [
    "## Renaming, adding and dropping columns"
   ]
  },
  {
   "cell_type": "code",
   "execution_count": null,
   "id": "14",
   "metadata": {},
   "outputs": [],
   "source": [
    "new_fire_df = fire_df.withColumnRenamed(\"Delay\", \"ResponseDelayedinMins\")\n",
    "new_fire_df.select(\"ResponseDelayedinMins\").where(col(\"ResponseDelayedinMins\")>5).show(5, truncate=False)"
   ]
  },
  {
   "cell_type": "code",
   "execution_count": null,
   "id": "15",
   "metadata": {},
   "outputs": [],
   "source": [
    "fire_ts_df = (new_fire_df.withColumn(\"IncidentDate\", to_timestamp(col(\"CallDate\"), \"MM/dd/yyyy\")).drop(\"CallDate\")\n",
    ".withColumn(\"OnWatchDate\", to_timestamp(col(\"WatchDate\"), \"MM/dd/yyyy\")).drop(\"WatchDate\")\n",
    ".withColumn(\"AvailableDtTS\", to_timestamp(col(\"AvailableDtTm\"), \"MM/dd/yyyy hh:mm:ss a\")).drop(\"AvailableDtTm\"))\n",
    "\n",
    "fire_ts_df.select(\"IncidentDate\", \"OnWatchDate\", \"AvailableDtTS\").show(5, truncate=False)"
   ]
  },
  {
   "cell_type": "code",
   "execution_count": null,
   "id": "16",
   "metadata": {},
   "outputs": [],
   "source": [
    "fire_ts_df.select(year(\"IncidentDate\")).distinct().orderBy(year(\"IncidentDate\")).show()"
   ]
  },
  {
   "cell_type": "markdown",
   "id": "17",
   "metadata": {},
   "source": [
    "## Aggregations"
   ]
  },
  {
   "cell_type": "code",
   "execution_count": null,
   "id": "18",
   "metadata": {},
   "outputs": [],
   "source": [
    "fire_ts_df.select(\"CallType\").where(col(\"CallType\").isNotNull()).groupBy(\"CallType\").count().orderBy(\"count\", ascending=False).show(10, truncate=False)"
   ]
  },
  {
   "cell_type": "markdown",
   "id": "19",
   "metadata": {},
   "source": [
    "## Other common DataFrame operations"
   ]
  },
  {
   "cell_type": "code",
   "execution_count": null,
   "id": "20",
   "metadata": {},
   "outputs": [],
   "source": [
    "fire_ts_df.select(spark_sum(\"NumAlarms\"), spark_avg(\"ResponseDelayedinMins\"), spark_min(\"ResponseDelayedinMins\"), spark_max(\"ResponseDelayedinMins\")).show()"
   ]
  },
  {
   "cell_type": "code",
   "execution_count": null,
   "id": "21",
   "metadata": {},
   "outputs": [],
   "source": [
    "spark.stop()"
   ]
  }
 ],
 "metadata": {
  "kernelspec": {
   "display_name": "Python 3 (ipykernel)",
   "language": "python",
   "name": "python3"
  },
  "language_info": {
   "codemirror_mode": {
    "name": "ipython",
    "version": 3
   },
   "file_extension": ".py",
   "mimetype": "text/x-python",
   "name": "python",
   "nbconvert_exporter": "python",
   "pygments_lexer": "ipython3",
   "version": "3.9.17"
  }
 },
 "nbformat": 4,
 "nbformat_minor": 5
}
