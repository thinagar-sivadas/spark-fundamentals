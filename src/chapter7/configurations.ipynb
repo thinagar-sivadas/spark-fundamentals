{
 "cells": [
  {
   "cell_type": "code",
   "execution_count": null,
   "id": "0",
   "metadata": {},
   "outputs": [],
   "source": [
    "from pyspark.sql import SparkSession"
   ]
  },
  {
   "cell_type": "markdown",
   "id": "1",
   "metadata": {},
   "source": [
    "# Spark configurations\n",
    "- spark.dynamicAllocation.enabled -> Allows dynamic update of executors based on workload\n",
    "- spark.dynamicAllocation.minExecutors -> Minimum number of executors\n",
    "- spark.dynamicAllocation.maxExecutors -> Maximum number of executors\n",
    "- spark.dynamicAllocation.schedulerBacklogTimeout -> As the task queue backlog increses, new executors will be requested each time the backlog timeout is exceeded\n",
    "- spark.dynamicAllocation.executorIdleTimeout -> If the executor finishes a task, and is idle for the duration specified the spark driver will terminate it"
   ]
  },
  {
   "cell_type": "code",
   "execution_count": null,
   "id": "2",
   "metadata": {},
   "outputs": [],
   "source": [
    "spark = SparkSession.builder.appName(\"configurations\")\\\n",
    ".config(\"spark.dynamicAllocation.enabled\", \"true\")\\\n",
    ".config(\"spark.dynamicAllocation.minExecutors\", \"1\")\\\n",
    ".config(\"spark.dynamicAllocation.maxExecutors\", \"20\")\\\n",
    ".config(\"spark.dynamicAllocation.schedulerBacklogTimeout\", \"1m\")\\\n",
    ".config(\"spark.dynamicAllocation.executorIdleTimeout\", \"2min\")\\\n",
    ".getOrCreate()"
   ]
  },
  {
   "cell_type": "markdown",
   "id": "3",
   "metadata": {},
   "source": [
    "## Adjust spark shuffle partitions and size\n",
    "- spark.sql.shuffle.partitions -> Maximum number of partitions(task) allowed\n",
    "- spark.sql.files.maxPartitionBytes -> Each partition size"
   ]
  },
  {
   "cell_type": "code",
   "execution_count": null,
   "id": "4",
   "metadata": {},
   "outputs": [],
   "source": [
    "print(spark.conf.get(\"spark.sql.shuffle.partitions\"))\n",
    "spark.conf.set(\"spark.sql.shuffle.partitions\", 5)\n",
    "print(spark.conf.get(\"spark.sql.shuffle.partitions\"))\n",
    "\n",
    "print(spark.conf.get(\"spark.sql.files.maxPartitionBytes\"))\n",
    "spark.conf.set(\"spark.sql.files.maxPartitionBytes\", \"209715200\")\n",
    "print(spark.conf.get(\"spark.sql.files.maxPartitionBytes\"))"
   ]
  },
  {
   "cell_type": "code",
   "execution_count": null,
   "id": "5",
   "metadata": {},
   "outputs": [],
   "source": [
    "spark.stop()"
   ]
  }
 ],
 "metadata": {
  "kernelspec": {
   "display_name": "Python 3 (ipykernel)",
   "language": "python",
   "name": "python3"
  },
  "language_info": {
   "codemirror_mode": {
    "name": "ipython",
    "version": 3
   },
   "file_extension": ".py",
   "mimetype": "text/x-python",
   "name": "python",
   "nbconvert_exporter": "python",
   "pygments_lexer": "ipython3",
   "version": "3.9.17"
  }
 },
 "nbformat": 4,
 "nbformat_minor": 5
}
