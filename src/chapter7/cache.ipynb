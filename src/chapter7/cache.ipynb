{
 "cells": [
  {
   "cell_type": "code",
   "execution_count": null,
   "id": "0",
   "metadata": {},
   "outputs": [],
   "source": [
    "from pyspark.sql import SparkSession\n",
    "from pyspark.sql.types import IntegerType, StringType, StructField, StructType\n",
    "import pyspark.sql.functions as F"
   ]
  },
  {
   "cell_type": "code",
   "execution_count": null,
   "id": "1",
   "metadata": {},
   "outputs": [],
   "source": [
    "spark = SparkSession.builder.appName(\"cache\").getOrCreate()"
   ]
  },
  {
   "cell_type": "code",
   "execution_count": null,
   "id": "2",
   "metadata": {},
   "outputs": [],
   "source": [
    "df_customers = (\n",
    "    spark.read.format(\"parquet\")\n",
    "    .option(\"header\", \"true\")\n",
    "    .load(\"/opt/bitnami/spark/custom_data/chapter7/customers/\")\n",
    ")\n",
    "\n",
    "df_customers.show()"
   ]
  },
  {
   "cell_type": "markdown",
   "id": "3",
   "metadata": {},
   "source": [
    "# Without cache"
   ]
  },
  {
   "cell_type": "code",
   "execution_count": null,
   "id": "4",
   "metadata": {},
   "outputs": [],
   "source": [
    "df_base = (\n",
    "    df_customers\n",
    "    .filter(F.col('city')=='boston')\n",
    "    .withColumn(\n",
    "        \"customer_group\",\n",
    "        F.when(\n",
    "            F.col(\"age\").between(20,30),\n",
    "            F.lit(\"young\")\n",
    "        )\n",
    "        .when(\n",
    "            F.col(\"age\").between(31,50),\n",
    "            F.lit(\"mid\")\n",
    "        )\n",
    "        .when(\n",
    "            F.col(\"age\") > 51,\n",
    "            F.lit(\"old\")\n",
    "        )\n",
    "        .otherwise(F.lit('kid'))\n",
    "    )\n",
    "    .select(\"cust_id\", \"name\", \"age\", \"gender\", \"birthday\", \"zip\", \"city\", \"customer_group\")\n",
    "    \n",
    "      )\n",
    "\n",
    "df_base.show(5, truncate=False)"
   ]
  },
  {
   "cell_type": "code",
   "execution_count": null,
   "id": "5",
   "metadata": {},
   "outputs": [],
   "source": [
    "df1 = (\n",
    "    df_base\n",
    "    .withColumn(\"test_column_1\", F.lit(\"test_column_1\"))\n",
    "    .withColumn(\"birth_year\", F.split(\"birthday\", \"/\").getItem(2))\n",
    "      )\n",
    "\n",
    "df1.explain()\n",
    "df1.show(5, truncate=False)"
   ]
  },
  {
   "cell_type": "code",
   "execution_count": null,
   "id": "6",
   "metadata": {},
   "outputs": [],
   "source": [
    "df2 = (\n",
    "    df_base\n",
    "    .withColumn(\"test_column_2\", F.lit(\"test_column_2\"))\n",
    "    .withColumn(\"birth_month\", F.split(\"birthday\", \"/\").getItem(1))\n",
    "      )\n",
    "\n",
    "df2.explain()\n",
    "df2.show(5, truncate=False)"
   ]
  },
  {
   "cell_type": "markdown",
   "id": "7",
   "metadata": {},
   "source": [
    "# Cache"
   ]
  },
  {
   "cell_type": "code",
   "execution_count": null,
   "id": "8",
   "metadata": {},
   "outputs": [],
   "source": [
    "df_base.cache()"
   ]
  },
  {
   "cell_type": "code",
   "execution_count": null,
   "id": "9",
   "metadata": {},
   "outputs": [],
   "source": [
    "df1 = (\n",
    "    df_base\n",
    "    .withColumn(\"test_column_1\", F.lit(\"test_column_1\"))\n",
    "    .withColumn(\"birth_year\", F.split(\"birthday\", \"/\").getItem(2))\n",
    "      )\n",
    "\n",
    "df1.explain()\n",
    "df1.show(5, truncate=False)"
   ]
  },
  {
   "cell_type": "code",
   "execution_count": null,
   "id": "10",
   "metadata": {},
   "outputs": [],
   "source": [
    "df2 = (\n",
    "    df_base\n",
    "    .withColumn(\"test_column_2\", F.lit(\"test_column_2\"))\n",
    "    .withColumn(\"birth_month\", F.split(\"birthday\", \"/\").getItem(1))\n",
    "      )\n",
    "\n",
    "df2.explain()\n",
    "df2.show(5, truncate=False)"
   ]
  },
  {
   "cell_type": "code",
   "execution_count": null,
   "id": "11",
   "metadata": {},
   "outputs": [],
   "source": [
    "spark.stop()"
   ]
  }
 ],
 "metadata": {
  "kernelspec": {
   "display_name": "Python 3 (ipykernel)",
   "language": "python",
   "name": "python3"
  },
  "language_info": {
   "codemirror_mode": {
    "name": "ipython",
    "version": 3
   },
   "file_extension": ".py",
   "mimetype": "text/x-python",
   "name": "python",
   "nbconvert_exporter": "python",
   "pygments_lexer": "ipython3",
   "version": "3.9.17"
  }
 },
 "nbformat": 4,
 "nbformat_minor": 5
}
